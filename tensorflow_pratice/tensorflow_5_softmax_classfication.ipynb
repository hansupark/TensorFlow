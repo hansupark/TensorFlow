{
 "cells": [
  {
   "cell_type": "code",
   "execution_count": 1,
   "metadata": {},
   "outputs": [],
   "source": [
    "import tensorflow as tf\n",
    "import numpy as np\n",
    "import matplotlib.pyplot as plt\n",
    "tf.enable_eager_execution()\n",
    "tf.set_random_seed(777)  # for reproducibility\n",
    "tfe = tf.contrib.eager"
   ]
  },
  {
   "cell_type": "code",
   "execution_count": 34,
   "metadata": {},
   "outputs": [],
   "source": [
    "x_data = [[1, 2, 1, 1],\n",
    "          [2, 1, 3, 2],\n",
    "          [3, 1, 3, 4],\n",
    "          [4, 1, 5, 5],\n",
    "          [1, 7, 5, 5],\n",
    "          [1, 2, 5, 6],\n",
    "          [1, 6, 6, 6],\n",
    "          [1, 7, 7, 7]]\n",
    "y_data = [[0, 0, 1],\n",
    "          [0, 0, 1],\n",
    "          [0, 0, 1],\n",
    "          [0, 1, 0],\n",
    "          [0, 1, 0],\n",
    "          [0, 1, 0],\n",
    "          [1, 0, 0],\n",
    "          [1, 0, 0]]\n",
    "\n",
    "x_data = np.asarray(x_data,dtype=np.float32) #asarray -> input을 array로 변환시킴\n",
    "y_data = np.asarray(y_data,dtype=np.float32)\n",
    "\n",
    "nb_classes = 3\n"
   ]
  },
  {
   "cell_type": "markdown",
   "metadata": {},
   "source": [
    "<h1>Axis</h1>\n",
    "<a href = \"http://taewan.kim/post/numpy_sum_axis/\">출처</a><br>\n",
    "<img src = \"https://taewanmerepo.github.io/2017/09/numpy_axis/axis.jpg\"/>\n",
    "\n",
    "axis에 따라 계산하는 방법이 달라짐.\n",
    "\n",
    "<h2>example</h2><br>\n",
    "<img src = \"https://taewanmerepo.github.io/2017/09/numpy_axis/shape1.png\" /><br>\n",
    "<img src = \"https://taewanmerepo.github.io/2017/09/numpy_axis/sample.jpg\" /><br>"
   ]
  },
  {
   "cell_type": "code",
   "execution_count": 47,
   "metadata": {},
   "outputs": [],
   "source": [
    "def hypothesis(x,W):\n",
    "    return tf.nn.softmax(tf.matmul(x,W)+b)\n",
    "\n",
    "def cost(Label,Y):\n",
    "    return -tf.reduce_mean(tf.reduce_sum(Label * tf.log(Y), axis = 1))\n",
    "\n",
    "def test(X):\n",
    "    print(hypothesis(X,W))\n",
    "    print(tf.argmax(hypothesis(X,W),1))"
   ]
  },
  {
   "cell_type": "code",
   "execution_count": 40,
   "metadata": {},
   "outputs": [],
   "source": [
    "W = tfe.Variable(tf.random_normal([4,nb_classes]))\n",
    "b = tfe.Variable(tf.random_normal([nb_classes]))"
   ]
  },
  {
   "cell_type": "code",
   "execution_count": 41,
   "metadata": {},
   "outputs": [
    {
     "name": "stdout",
     "output_type": "stream",
     "text": [
      "iter : 0 loss : 11.7785\n",
      "iter : 100 loss : 0.7003\n",
      "iter : 200 loss : 0.6308\n",
      "iter : 300 loss : 0.5755\n",
      "iter : 400 loss : 0.5257\n",
      "iter : 500 loss : 0.4783\n",
      "iter : 600 loss : 0.4319\n",
      "iter : 700 loss : 0.3860\n",
      "iter : 800 loss : 0.3403\n",
      "iter : 900 loss : 0.2951\n",
      "iter : 1000 loss : 0.2546\n",
      "iter : 1100 loss : 0.2351\n",
      "iter : 1200 loss : 0.2236\n",
      "iter : 1300 loss : 0.2132\n",
      "iter : 1400 loss : 0.2036\n",
      "iter : 1500 loss : 0.1948\n",
      "iter : 1600 loss : 0.1867\n",
      "iter : 1700 loss : 0.1793\n",
      "iter : 1800 loss : 0.1724\n",
      "iter : 1900 loss : 0.1659\n",
      "iter : 2000 loss : 0.1600\n"
     ]
    }
   ],
   "source": [
    "for i in range(2001):\n",
    "    optimizer = tf.train.GradientDescentOptimizer(learning_rate=0.1)\n",
    "    with tf.GradientTape() as tape:\n",
    "        result = cost(y_data,hypothesis(x_data,W))\n",
    "    grads = tape.gradient(result,[W,b])\n",
    "    optimizer.apply_gradients(zip(grads,[W,b]))\n",
    "    if i % 100 == 0:\n",
    "        print(\"iter : {} loss : {:.4f}\".format(i,result))"
   ]
  },
  {
   "cell_type": "code",
   "execution_count": 49,
   "metadata": {},
   "outputs": [
    {
     "name": "stdout",
     "output_type": "stream",
     "text": [
      "tf.Tensor([[1.6042466e-05 3.3004205e-03 9.9668354e-01]], shape=(1, 3), dtype=float32)\n",
      "tf.Tensor([2], shape=(1,), dtype=int64)\n"
     ]
    }
   ],
   "source": [
    "test([[1.,1.,1.,1.]])"
   ]
  },
  {
   "cell_type": "code",
   "execution_count": 50,
   "metadata": {},
   "outputs": [
    {
     "name": "stdout",
     "output_type": "stream",
     "text": [
      "tf.Tensor([[9.1593921e-01 8.4060505e-02 3.1977083e-07]], shape=(1, 3), dtype=float32)\n",
      "tf.Tensor([0], shape=(1,), dtype=int64)\n"
     ]
    }
   ],
   "source": [
    "test([[1., 7., 7., 7.]])"
   ]
  },
  {
   "cell_type": "code",
   "execution_count": 51,
   "metadata": {},
   "outputs": [
    {
     "name": "stdout",
     "output_type": "stream",
     "text": [
      "tf.Tensor(\n",
      "[[3.2735263e-06 1.0264806e-03 9.9897027e-01]\n",
      " [1.5652822e-03 8.4051616e-02 9.1438305e-01]\n",
      " [6.1209086e-08 1.6672978e-01 8.3327013e-01]\n",
      " [1.1919321e-06 8.4742862e-01 1.5257014e-01]\n",
      " [2.6057228e-01 7.2708237e-01 1.2345379e-02]\n",
      " [1.3707095e-01 8.6292309e-01 5.9813274e-06]\n",
      " [7.5072885e-01 2.4925147e-01 1.9656585e-05]\n",
      " [9.1593927e-01 8.4060431e-02 3.1977052e-07]], shape=(8, 3), dtype=float32)\n",
      "tf.Tensor([2 2 2 1 1 1 0 0], shape=(8,), dtype=int64)\n"
     ]
    }
   ],
   "source": [
    "test(x_data)"
   ]
  },
  {
   "cell_type": "code",
   "execution_count": null,
   "metadata": {},
   "outputs": [],
   "source": []
  }
 ],
 "metadata": {
  "kernelspec": {
   "display_name": "Python 3",
   "language": "python",
   "name": "python3"
  },
  "language_info": {
   "codemirror_mode": {
    "name": "ipython",
    "version": 3
   },
   "file_extension": ".py",
   "mimetype": "text/x-python",
   "name": "python",
   "nbconvert_exporter": "python",
   "pygments_lexer": "ipython3",
   "version": "3.6.8"
  }
 },
 "nbformat": 4,
 "nbformat_minor": 2
}
