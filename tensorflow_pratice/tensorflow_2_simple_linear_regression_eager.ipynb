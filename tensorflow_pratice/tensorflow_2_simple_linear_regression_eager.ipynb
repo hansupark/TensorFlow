{
 "cells": [
  {
   "cell_type": "code",
   "execution_count": 42,
   "metadata": {},
   "outputs": [],
   "source": [
    "import tensorflow as tf\n",
    "import numpy as np\n",
    "import matplotlib.pyplot as plt # 데이터 시각화 도구 --> plot으로 연산.\n",
    "tf.enable_eager_execution() #tensorflow를 그래프없이 연산을 가능하게함"
   ]
  },
  {
   "cell_type": "code",
   "execution_count": 48,
   "metadata": {},
   "outputs": [],
   "source": [
    "x_data = [1.,2.,3.,4.,5.] # learning data\n",
    "y_data = [1.,2.,3.,4.,5.] # learning data\n",
    "\n",
    "#y_data = [6.,7.,8.,9.,10.] # real data\n",
    "\n",
    "W = tf.Variable(2.9)\n",
    "b = tf.Variable(1.0)\n",
    "\n",
    "H = W * x_data + b\n",
    "cost = tf.reduce_mean(tf.square(H - y_data)) \n",
    "#배열 = 행렬"
   ]
  },
  {
   "cell_type": "code",
   "execution_count": 44,
   "metadata": {},
   "outputs": [
    {
     "data": {
      "text/plain": [
       "2.9"
      ]
     },
     "execution_count": 44,
     "metadata": {},
     "output_type": "execute_result"
    }
   ],
   "source": [
    "W.numpy()"
   ]
  },
  {
   "cell_type": "code",
   "execution_count": 37,
   "metadata": {},
   "outputs": [
    {
     "data": {
      "text/plain": [
       "1.0"
      ]
     },
     "execution_count": 37,
     "metadata": {},
     "output_type": "execute_result"
    }
   ],
   "source": [
    "b.numpy()"
   ]
  },
  {
   "cell_type": "code",
   "execution_count": 38,
   "metadata": {},
   "outputs": [
    {
     "data": {
      "text/plain": [
       "array([ 3.9     ,  6.8     ,  9.700001, 12.6     , 15.5     ],\n",
       "      dtype=float32)"
      ]
     },
     "execution_count": 38,
     "metadata": {},
     "output_type": "execute_result"
    }
   ],
   "source": [
    "H.numpy()"
   ]
  },
  {
   "cell_type": "code",
   "execution_count": 39,
   "metadata": {},
   "outputs": [
    {
     "data": {
      "text/plain": [
       "52.110004"
      ]
     },
     "execution_count": 39,
     "metadata": {},
     "output_type": "execute_result"
    }
   ],
   "source": [
    "cost.numpy()"
   ]
  },
  {
   "cell_type": "code",
   "execution_count": 40,
   "metadata": {},
   "outputs": [
    {
     "name": "stdout",
     "output_type": "stream",
     "text": [
      "    0|    2.4220|    0.8660| 52.110004\n",
      "   10|    0.9863|    0.4526|  0.268136\n",
      "   20|    0.8935|    0.4117|  0.031833\n",
      "   30|    0.8907|    0.3963|  0.028760\n",
      "   40|    0.8940|    0.3829|  0.026872\n",
      "   50|    0.8975|    0.3702|  0.025112\n",
      "   60|    0.9009|    0.3579|  0.023468\n",
      "   70|    0.9042|    0.3459|  0.021931\n",
      "   80|    0.9074|    0.3344|  0.020495\n",
      "   90|    0.9105|    0.3233|  0.019152\n",
      "  100|    0.9134|    0.3125|  0.017898\n"
     ]
    },
    {
     "data": {
      "text/plain": [
       "(0, 10)"
      ]
     },
     "execution_count": 40,
     "metadata": {},
     "output_type": "execute_result"
    },
    {
     "data": {
      "image/png": "[encoded data removed]",
      "text/plain": [
       "<Figure size 432x288 with 1 Axes>"
      ]
     },
     "metadata": {
      "needs_background": "light"
     },
     "output_type": "display_data"
    }
   ],
   "source": [
    "learning_rate = 0.01\n",
    "for i in range(101):\n",
    "    with tf.GradientTape() as tape: #Tape -> 실행된 연산을 테이프에 저장.\n",
    "        H = W * x_data + b\n",
    "        cost = tf.reduce_mean(tf.square(H - y_data))\n",
    "    W_grad, b_grad = tape.gradient(cost,[W,b]) #cost식에 대해 W와 b에 대해 미분을 시행.\n",
    "    W.assign_sub(learning_rate*W_grad) #gradient descent방식사용.\n",
    "    b.assign_sub(learning_rate*b_grad)\n",
    "    if i % 10 == 0:\n",
    "        print(\"{:5}|{:10.4f}|{:10.4f}|{:10.6f}\".format(i, W.numpy(), b.numpy(), cost))\n",
    "plt.plot(x_data,y_data,'o') \n",
    "#각 배열을 (x,y)으로 맵핑시켜 그래프를 만듬, 두번째 default parameter : 1부터 시작해사 tick 1씩 증가되도록 함 \n",
    "plt.plot(x_data,H,'r-') # 3번째 parameter는 점 or line을 선택\n",
    "plt.ylim(0,10)"
   ]
  },
  {
   "cell_type": "code",
   "execution_count": 50,
   "metadata": {},
   "outputs": [
    {
     "name": "stdout",
     "output_type": "stream",
     "text": [
      "    0|    2.8996|    1.0004| 52.110004\n",
      "   10|    2.8954|    1.0046| 51.966454\n",
      "   20|    2.8912|    1.0088| 51.823444\n",
      "   30|    2.8871|    1.0129| 51.680939\n",
      "   40|    2.8829|    1.0171| 51.538952\n",
      "   50|    2.8788|    1.0212| 51.397503\n",
      "   60|    2.8747|    1.0253| 51.256542\n",
      "   70|    2.8705|    1.0295| 51.116119\n",
      "   80|    2.8664|    1.0336| 50.976196\n",
      "   90|    2.8623|    1.0377| 50.836792\n",
      "  100|    2.8582|    1.0418| 50.697895\n"
     ]
    },
    {
     "data": {
      "text/plain": [
       "(0, 10)"
      ]
     },
     "execution_count": 50,
     "metadata": {},
     "output_type": "execute_result"
    },
    {
     "data": {
      "image/png": "[encoded data removed]",
      "text/plain": [
       "<Figure size 432x288 with 1 Axes>"
      ]
     },
     "metadata": {
      "needs_background": "light"
     },
     "output_type": "display_data"
    }
   ],
   "source": [
    "#tape 안쓰고\n",
    "\n",
    "import itertools as it\n",
    "learning_rate = 0.01\n",
    "for i in range(101):\n",
    "    H = W * x_data + b\n",
    "    cost = tf.reduce_mean(tf.square(H - y_data))\n",
    "    s = 0.\n",
    "    s = tf.reduce_mean((W * x_data - y_data) * x_data) # error generate\n",
    "    W_grad = learning_rate / (len(x_data)) * s \n",
    "    b_grad = -1 * learning_rate / (len(x_data)) * s \n",
    "    W.assign_sub(learning_rate*W_grad) #gradient descent방식사용.\n",
    "    b.assign_sub(learning_rate*b_grad)\n",
    "    if i % 10 == 0:\n",
    "        print(\"{:5}|{:10.4f}|{:10.4f}|{:10.6f}\".format(i, W.numpy(), b.numpy(), cost))\n",
    "plt.plot(x_data,y_data,'o') \n",
    "#각 배열을 (x,y)으로 맵핑시켜 그래프를 만듬, 두번째 default parameter : 1부터 시작해사 tick 1씩 증가되도록 함 \n",
    "plt.plot(x_data,H,'r-') # 3번째 parameter는 점 or line을 선택\n",
    "plt.ylim(0,10)"
   ]
  },
  {
   "cell_type": "code",
   "execution_count": null,
   "metadata": {},
   "outputs": [],
   "source": []
  }
 ],
 "metadata": {
  "kernelspec": {
   "display_name": "Python 3",
   "language": "python",
   "name": "python3"
  },
  "language_info": {
   "codemirror_mode": {
    "name": "ipython",
    "version": 3
   },
   "file_extension": ".py",
   "mimetype": "text/x-python",
   "name": "python",
   "nbconvert_exporter": "python",
   "pygments_lexer": "ipython3",
   "version": "3.6.8"
  }
 },
 "nbformat": 4,
 "nbformat_minor": 2
}
