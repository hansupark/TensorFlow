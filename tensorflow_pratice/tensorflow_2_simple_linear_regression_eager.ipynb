{
 "cells": [
  {
   "cell_type": "code",
   "execution_count": 1,
   "metadata": {},
   "outputs": [],
   "source": [
    "import tensorflow as tf\n",
    "import numpy as np\n",
    "import matplotlib.pyplot as plt # 데이터 시각화 도구 --> plot으로 연산.\n",
    "tf.enable_eager_execution() #tensorflow를 그래프없이 연산을 가능하게함"
   ]
  },
  {
   "cell_type": "code",
   "execution_count": 45,
   "metadata": {},
   "outputs": [],
   "source": [
    "x_data = [1.,2.,3.,4.,5.] # learning data\n",
    "y_data = [1.,2.,3.,4.,5.] # learning data\n",
    "\n",
    "#y_data = [6.,7.,8.,9.,10.] # real data\n",
    "\n",
    "W = tf.Variable(2.9)\n",
    "b = tf.Variable(1.0)\n",
    "\n",
    "H = W * x_data + b\n",
    "cost = tf.reduce_mean(tf.square(H - y_data)) \n",
    "#배열 = 행렬"
   ]
  },
  {
   "cell_type": "code",
   "execution_count": 44,
   "metadata": {},
   "outputs": [
    {
     "data": {
      "text/plain": [
       "2.9"
      ]
     },
     "execution_count": 44,
     "metadata": {},
     "output_type": "execute_result"
    }
   ],
   "source": [
    "W.numpy()"
   ]
  },
  {
   "cell_type": "code",
   "execution_count": 37,
   "metadata": {},
   "outputs": [
    {
     "data": {
      "text/plain": [
       "1.0"
      ]
     },
     "execution_count": 37,
     "metadata": {},
     "output_type": "execute_result"
    }
   ],
   "source": [
    "b.numpy()"
   ]
  },
  {
   "cell_type": "code",
   "execution_count": 38,
   "metadata": {},
   "outputs": [
    {
     "data": {
      "text/plain": [
       "array([ 3.9     ,  6.8     ,  9.700001, 12.6     , 15.5     ],\n",
       "      dtype=float32)"
      ]
     },
     "execution_count": 38,
     "metadata": {},
     "output_type": "execute_result"
    }
   ],
   "source": [
    "H.numpy()"
   ]
  },
  {
   "cell_type": "code",
   "execution_count": 39,
   "metadata": {},
   "outputs": [
    {
     "data": {
      "text/plain": [
       "52.110004"
      ]
     },
     "execution_count": 39,
     "metadata": {},
     "output_type": "execute_result"
    }
   ],
   "source": [
    "cost.numpy()"
   ]
  },
  {
   "cell_type": "code",
   "execution_count": 39,
   "metadata": {},
   "outputs": [
    {
     "name": "stdout",
     "output_type": "stream",
     "text": [
      "    0|    2.4220|    0.8660| 52.110004\n",
      "   10|    0.9863|    0.4526|  0.268136\n",
      "   20|    0.8935|    0.4117|  0.031833\n",
      "   30|    0.8907|    0.3963|  0.028760\n",
      "   40|    0.8940|    0.3829|  0.026872\n",
      "   50|    0.8975|    0.3702|  0.025112\n",
      "   60|    0.9009|    0.3579|  0.023468\n",
      "   70|    0.9042|    0.3459|  0.021931\n",
      "   80|    0.9074|    0.3344|  0.020495\n",
      "   90|    0.9105|    0.3233|  0.019152\n",
      "  100|    0.9134|    0.3125|  0.017898\n"
     ]
    },
    {
     "data": {
      "text/plain": [
       "(0, 10)"
      ]
     },
     "execution_count": 39,
     "metadata": {},
     "output_type": "execute_result"
    },
    {
     "data": {
      "image/png": "[encoded data removed]",
      "text/plain": [
       "<Figure size 432x288 with 1 Axes>"
      ]
     },
     "metadata": {
      "needs_background": "light"
     },
     "output_type": "display_data"
    }
   ],
   "source": [
    "learning_rate = 0.01\n",
    "for i in range(101):\n",
    "    with tf.GradientTape() as tape: #Tape -> 실행된 연산을 테이프에 저장.\n",
    "        H = W * x_data + b # tensor * ? -> tensor\n",
    "        cost = tf.reduce_mean(tf.square(H - y_data))\n",
    "    W_grad, b_grad = tape.gradient(cost,[W,b]) #cost식에 대해 W와 b에 대해 미분을 시행.\n",
    "    W.assign_sub(learning_rate*W_grad) #gradient descent방식사용.\n",
    "    b.assign_sub(learning_rate*b_grad)\n",
    "    if i % 10 == 0:\n",
    "        print(\"{:5}|{:10.4f}|{:10.4f}|{:10.6f}\".format(i, W.numpy(), b.numpy(), cost))\n",
    "plt.plot(x_data,y_data,'o') \n",
    "#각 배열을 (x,y)으로 맵핑시켜 그래프를 만듬, 두번째 default parameter : 1부터 시작해사 tick 1씩 증가되도록 함 \n",
    "plt.plot(x_data,H,'r-') # 3번째 parameter는 점 or line을 선택\n",
    "plt.ylim(0,10)"
   ]
  },
  {
   "cell_type": "code",
   "execution_count": 46,
   "metadata": {},
   "outputs": [
    {
     "name": "stdout",
     "output_type": "stream",
     "text": [
      "    0|    2.6610|    0.9330| 52.110004\n",
      "   10|    1.3865|    0.5720|  4.231172\n",
      "   20|    1.0261|    0.4644|  0.371207\n",
      "   30|    0.9252|    0.4288|  0.059098\n",
      "   40|    0.8979|    0.4137|  0.032972\n",
      "   50|    0.8915|    0.4045|  0.029927\n",
      "   60|    0.8910|    0.3971|  0.028775\n",
      "   70|    0.8922|    0.3902|  0.027805\n",
      "   80|    0.8938|    0.3836|  0.026879\n",
      "   90|    0.8955|    0.3772|  0.025984\n",
      "  100|    0.8973|    0.3709|  0.025120\n",
      "  110|    0.8990|    0.3646|  0.024284\n",
      "  120|    0.9007|    0.3585|  0.023476\n",
      "  130|    0.9024|    0.3525|  0.022695\n",
      "  140|    0.9040|    0.3466|  0.021940\n",
      "  150|    0.9056|    0.3408|  0.021210\n",
      "  160|    0.9072|    0.3351|  0.020504\n",
      "  170|    0.9087|    0.3294|  0.019822\n",
      "  180|    0.9103|    0.3239|  0.019162\n",
      "  190|    0.9118|    0.3185|  0.018525\n",
      "  200|    0.9133|    0.3131|  0.017908\n",
      "  210|    0.9147|    0.3079|  0.017312\n",
      "  220|    0.9162|    0.3027|  0.016736\n",
      "  230|    0.9176|    0.2976|  0.016180\n",
      "  240|    0.9189|    0.2926|  0.015641\n",
      "  250|    0.9203|    0.2877|  0.015121\n",
      "  260|    0.9216|    0.2829|  0.014618\n",
      "  270|    0.9230|    0.2782|  0.014131\n",
      "  280|    0.9242|    0.2735|  0.013661\n",
      "  290|    0.9255|    0.2689|  0.013207\n",
      "  300|    0.9268|    0.2644|  0.012767\n",
      "  310|    0.9280|    0.2600|  0.012342\n",
      "  320|    0.9292|    0.2556|  0.011932\n",
      "  330|    0.9304|    0.2513|  0.011535\n",
      "  340|    0.9316|    0.2471|  0.011151\n",
      "  350|    0.9327|    0.2430|  0.010780\n",
      "  360|    0.9338|    0.2389|  0.010421\n",
      "  370|    0.9349|    0.2349|  0.010075\n",
      "  380|    0.9360|    0.2309|  0.009739\n",
      "  390|    0.9371|    0.2271|  0.009415\n",
      "  400|    0.9382|    0.2232|  0.009102\n",
      "  410|    0.9392|    0.2195|  0.008799\n",
      "  420|    0.9402|    0.2158|  0.008506\n",
      "  430|    0.9412|    0.2122|  0.008223\n",
      "  440|    0.9422|    0.2086|  0.007950\n",
      "  450|    0.9432|    0.2051|  0.007685\n",
      "  460|    0.9441|    0.2017|  0.007430\n",
      "  470|    0.9451|    0.1983|  0.007182\n",
      "  480|    0.9460|    0.1950|  0.006943\n",
      "  490|    0.9469|    0.1917|  0.006712\n",
      "  500|    0.9478|    0.1885|  0.006489\n"
     ]
    },
    {
     "data": {
      "text/plain": [
       "(0, 10)"
      ]
     },
     "execution_count": 46,
     "metadata": {},
     "output_type": "execute_result"
    },
    {
     "data": {
      "image/png": "[encoded data removed]",
      "text/plain": [
       "<Figure size 432x288 with 1 Axes>"
      ]
     },
     "metadata": {
      "needs_background": "light"
     },
     "output_type": "display_data"
    }
   ],
   "source": [
    "#tape 안쓰고\n",
    "\n",
    "import itertools as it\n",
    "learning_rate = 0.01\n",
    "for i in range(101):\n",
    "    H = W * x_data + b\n",
    "    cost = tf.reduce_mean(tf.square(H - y_data)) #reduce_~~ -> 차원을 1 줄이면서 연산을 함\n",
    "    s1 = tf.reduce_mean(tf.multiply(tf.subtract(tf.add(tf.multiply(W,x_data),b),y_data),x_data))\n",
    "    s2 = tf.reduce_mean(tf.add(tf.subtract(tf.multiply(W,x_data),y_data),b)) # error generate\n",
    "    W_grad = learning_rate * s1 \n",
    "    b_grad = learning_rate * s2 \n",
    "    W.assign_sub(W_grad) #gradient descent방식사용.\n",
    "    b.assign_sub(b_grad)\n",
    "    if i % 10 == 0:\n",
    "        print(\"{:5}|{:10.4f}|{:10.4f}|{:10.6f}\".format(i, W.numpy(), b.numpy(), cost))\n",
    "plt.plot(x_data,y_data,'o') \n",
    "#각 배열을 (x,y)으로 맵핑시켜 그래프를 만듬, 두번째 default parameter : 1부터 시작해사 tick 1씩 증가되도록 함 \n",
    "plt.plot(x_data,H,'r-') # 3번째 parameter는 점 or line을 선택\n",
    "plt.ylim(0,10)"
   ]
  }
 ],
 "metadata": {
  "kernelspec": {
   "display_name": "Python 3",
   "language": "python",
   "name": "python3"
  },
  "language_info": {
   "codemirror_mode": {
    "name": "ipython",
    "version": 3
   },
   "file_extension": ".py",
   "mimetype": "text/x-python",
   "name": "python",
   "nbconvert_exporter": "python",
   "pygments_lexer": "ipython3",
   "version": "3.6.8"
  }
 },
 "nbformat": 4,
 "nbformat_minor": 2
}
