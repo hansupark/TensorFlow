{
 "cells": [
  {
   "cell_type": "code",
   "execution_count": 7,
   "metadata": {
    "scrolled": true
   },
   "outputs": [
    {
     "data": {
      "text/plain": [
       "7.0"
      ]
     },
     "execution_count": 7,
     "metadata": {},
     "output_type": "execute_result"
    }
   ],
   "source": [
    "import tensorflow as tf\n",
    "\n",
    "node1 = tf.constant(3.0)\n",
    "node2 = tf.constant(4.0)\n",
    "\n",
    "node3 = tf.add(node1,node2)\n",
    "#tensorflow에서는 그래프로 데이터를 처리 위의 식들은 그래프를 정의 한 것이지 식을 계산한 것이 아님\n",
    "#Session으로 연산을 시행\n",
    "\n",
    "sess = tf.Session()\n",
    "sess.run(node3)"
   ]
  },
  {
   "cell_type": "markdown",
   "metadata": {},
   "source": [
    "![Graph](http://mblogthumb2.phinf.naver.net/MjAxODA1MTdfMTYw/MDAxNTI2NTU3MzQ4Mzgx.HOsboWcj8Y7bwL4BmzV1J_c78m0B92yxqa2_bwfKlyMg.eN2Lp4ghu0qCykcv8R6NbTl7x-bNRM6NX_IbfkXFE50g.PNG.ndb796/image.png?type=w800)\n",
    "위의 수식의 그림"
   ]
  },
  {
   "cell_type": "code",
   "execution_count": 11,
   "metadata": {},
   "outputs": [
    {
     "data": {
      "text/plain": [
       "array([4., 6., 8.], dtype=float32)"
      ]
     },
     "execution_count": 11,
     "metadata": {},
     "output_type": "execute_result"
    }
   ],
   "source": [
    "\n",
    "a = tf.placeholder(tf.float32)\n",
    "b = tf.placeholder(tf.float32)\n",
    "#placeholder -> 함수에서는 변수 (학습 데이터)\n",
    "c = a + b \n",
    "\n",
    "sess.run(c,feed_dict = {a : [1.,2.,3.], b : [3., 4.,5.]})"
   ]
  }
 ],
 "metadata": {
  "kernelspec": {
   "display_name": "Python 3",
   "language": "python",
   "name": "python3"
  },
  "language_info": {
   "codemirror_mode": {
    "name": "ipython",
    "version": 3
   },
   "file_extension": ".py",
   "mimetype": "text/x-python",
   "name": "python",
   "nbconvert_exporter": "python",
   "pygments_lexer": "ipython3",
   "version": "3.6.8"
  }
 },
 "nbformat": 4,
 "nbformat_minor": 2
}
